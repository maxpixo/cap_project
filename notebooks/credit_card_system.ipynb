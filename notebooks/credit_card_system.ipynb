{
 "cells": [
  {
   "cell_type": "code",
   "execution_count": 1,
   "metadata": {},
   "outputs": [],
   "source": [
    "import findspark\n",
    "findspark.init(\"/Users/max/Drive/spark\")"
   ]
  },
  {
   "cell_type": "code",
   "execution_count": 2,
   "metadata": {},
   "outputs": [],
   "source": [
    "from pyspark.sql import SparkSession\n",
    "from pyspark.sql.functions import *\n",
    "from pyspark.sql.types import *"
   ]
  },
  {
   "cell_type": "code",
   "execution_count": 3,
   "metadata": {},
   "outputs": [
    {
     "name": "stderr",
     "output_type": "stream",
     "text": [
      "23/10/03 17:35:43 WARN Utils: Your hostname, Mahmouds-MacBook-Pro.local resolves to a loopback address: 127.0.0.1; using 192.168.0.2 instead (on interface en0)\n",
      "23/10/03 17:35:43 WARN Utils: Set SPARK_LOCAL_IP if you need to bind to another address\n",
      "Setting default log level to \"WARN\".\n",
      "To adjust logging level use sc.setLogLevel(newLevel). For SparkR, use setLogLevel(newLevel).\n",
      "23/10/03 17:35:44 WARN NativeCodeLoader: Unable to load native-hadoop library for your platform... using builtin-java classes where applicable\n"
     ]
    }
   ],
   "source": [
    "# Create a Spark Session\n",
    "spark = SparkSession.builder.appName(\"CreditCardSystem\").getOrCreate()"
   ]
  },
  {
   "cell_type": "code",
   "execution_count": 4,
   "metadata": {},
   "outputs": [
    {
     "name": "stderr",
     "output_type": "stream",
     "text": [
      "23/10/03 17:35:59 WARN GarbageCollectionMetrics: To enable non-built-in garbage collector(s) List(G1 Concurrent GC), users should configure it(them) to spark.eventLog.gcMetrics.youngGenerationGarbageCollectors or spark.eventLog.gcMetrics.oldGenerationGarbageCollectors\n"
     ]
    }
   ],
   "source": [
    "json_schema = StructType([\n",
    "    StructField(\"FIRST_NAME\", StringType(), nullable=True),\n",
    "    StructField(\"MIDDLE_NAME\", StringType(), nullable=True),\n",
    "    StructField(\"LAST_NAME\", StringType(), nullable=True),\n",
    "    StructField(\"SSN\", IntegerType(), nullable=True),\n",
    "    StructField(\"CREDIT_CARD_NO\", StringType(), nullable=True),\n",
    "    StructField(\"APT_NO\", StringType(), nullable=True),\n",
    "    StructField(\"STREET_NAME\", StringType(), nullable=True),\n",
    "    StructField(\"CUST_CITY\", StringType(), nullable=True),\n",
    "    StructField(\"CUST_STATE\", StringType(), nullable=True),\n",
    "    StructField(\"CUST_COUNTRY\", StringType(), nullable=True),\n",
    "    StructField(\"CUST_ZIP\", StringType(), nullable=True),\n",
    "    StructField(\"CUST_PHONE\", LongType(), nullable=True), \n",
    "    StructField(\"CUST_EMAIL\", StringType(), nullable=True),\n",
    "    StructField(\"LAST_UPDATED\", TimestampType(), nullable=True)\n",
    "])\n",
    "\n",
    "\n",
    "# Read the JSON File from the data folder\n",
    "customer_data = spark.read.json('/Users/max/Drive/VS_Projects/cap_project/data/cdw_sapp_custmer.json', schema= json_schema)"
   ]
  },
  {
   "cell_type": "code",
   "execution_count": 36,
   "metadata": {},
   "outputs": [
    {
     "name": "stdout",
     "output_type": "stream",
     "text": [
      "+----------+-----------+---------+---------+----------------+------+-----------------+------------+----------+-------------+--------+----------+--------------------+-------------------+\n",
      "|FIRST_NAME|MIDDLE_NAME|LAST_NAME|      SSN|  CREDIT_CARD_NO|APT_NO|      STREET_NAME|   CUST_CITY|CUST_STATE| CUST_COUNTRY|CUST_ZIP|CUST_PHONE|          CUST_EMAIL|       LAST_UPDATED|\n",
      "+----------+-----------+---------+---------+----------------+------+-----------------+------------+----------+-------------+--------+----------+--------------------+-------------------+\n",
      "|      Alec|         Wm|   Hooper|123456100|4210653310061055|   656|Main Street North|     Natchez|        MS|United States|   39120|   1237818| AHooper@example.com|2018-04-21 09:49:02|\n",
      "|      Etta|    Brendan|   Holman|123453023|4210653310102868|   829|    Redwood Drive|Wethersfield|        CT|United States|   06109|   1238933| EHolman@example.com|2018-04-21 09:49:02|\n",
      "|    Wilber|   Ezequiel|   Dunham|123454487|4210653310116272|   683| 12th Street East|     Huntley|        IL|United States|   60142|   1243018| WDunham@example.com|2018-04-21 09:49:02|\n",
      "|   Eugenio|      Trina|    Hardy|123459758|4210653310195948|   253|Country Club Road|   NewBerlin|        WI|United States|   53151|   1243215|  EHardy@example.com|2018-04-21 09:49:02|\n",
      "|   Wilfred|        May|    Ayers|123454431|4210653310356919|   301|   Madison Street|      ElPaso|        TX|United States|   79930|   1242074|  WAyers@example.com|2018-04-21 09:49:02|\n",
      "|      Beau|    Ambrose|  Woodard|123454202|4210653310395982|     3|   Colonial Drive|NorthOlmsted|        OH|United States|   44070|   1242570|BWoodard@example.com|2018-04-21 09:49:02|\n",
      "|    Sheila|      Larry|     Kemp|123451799|4210653310400536|    84|   Belmont Avenue|      Vienna|        VA|United States|   22180|   1239685|   SKemp@example.com|2018-04-21 09:49:02|\n",
      "|     Wendy|        Ora|   Hurley|123453875|4210653310459911|   728|     Oxford Court|      Duarte|        CA|United States|   91010|   1238213| WHurley@example.com|2018-04-21 09:49:02|\n",
      "|      Alec|     Tracie|  Gilmore|123457511|4210653310773972|    81|    Forest Street|      Owosso|        MI|United States|   48867|   1240689|AGilmore@example.com|2018-04-21 09:49:02|\n",
      "|    Barbra|    Mitchel|      Lau|123457464|4210653310794854|   561|     Court Street|        Zion|        IL|United States|   60099|   1235222|    BLau@example.com|2018-04-21 09:49:02|\n",
      "|   Edmundo|      Denny|  Thomson|123457639|4210653310817373|   622|    Cypress Court|  Youngstown|        OH|United States|   44512|   1241363|EThomson@example.com|2018-04-21 09:49:02|\n",
      "|      Elsa|   Isabelle|   Truong|123453242|4210653310844617|   924|  8th Street West| Summerville|        SC|United States|   29483|   1236228| ETruong@example.com|2018-04-21 09:49:02|\n",
      "|     Homer|      Henry| Mckinney|123454339|4210653311015303|   611|      East Avenue|      ElPaso|        TX|United States|   79930|   1238165|HMckinney@example...|2018-04-21 09:49:02|\n",
      "|      Rita|     Rickey|     Kidd|123454537|4210653311215039|   680|         Route 44|      Fenton|        MI|United States|   48430|   1234730|   RKidd@example.com|2018-04-21 09:49:02|\n",
      "|    Amalia|  Heriberto|  Ballard|123452373|4210653311229354|    71|    Warren Street|  Grandville|        MI|United States|   49418|   1242113|ABallard@example.com|2018-04-21 09:49:02|\n",
      "|     Patty|   Angelita|   Thomas|123455343|4210653311652836|   195|     Jones Street|    YubaCity|        CA|United States|   95993|   1239888| PThomas@example.com|2018-04-21 09:49:02|\n",
      "|  Josefina|   Dorothea|   Morrow|123451533|4210653311707126|   500|       New Street|   CapeCoral|        FL|United States|   33904|   1240158| JMorrow@example.com|2018-04-21 09:49:02|\n",
      "|    Nelson|  Jefferson|  Andrews|123459278|4210653311730764|   989|  Division Street|  Brookfield|        WI|United States|   53045|   1241408|NAndrews@example.com|2018-04-21 09:49:02|\n",
      "|    Miquel|     Maximo|Schneider|123456915|4210653311898082|   810|     Maple Street|    Richmond|        VA|United States|   23223|   1238390|MSchneider@exampl...|2018-04-21 09:49:02|\n",
      "|    Parker|    Arnulfo|  Tidwell|123453807|4210653312021765|   649|       Eagle Road| WestChester|        PA|United States|   19380|   1235067|PTidwell@example.com|2018-04-21 09:49:02|\n",
      "+----------+-----------+---------+---------+----------------+------+-----------------+------------+----------+-------------+--------+----------+--------------------+-------------------+\n",
      "only showing top 20 rows\n",
      "\n"
     ]
    }
   ],
   "source": [
    "customer_data.show()"
   ]
  },
  {
   "cell_type": "code",
   "execution_count": 50,
   "metadata": {},
   "outputs": [],
   "source": [
    "# Apply Transformations Based on Mapping Document\n",
    "transformed_data = customer_data.select(\n",
    "    col(\"SSN\").alias(\"SSN\"),\n",
    "    initcap(col(\"FIRST_NAME\")).alias(\"FIRST_NAME\"),\n",
    "    lower(col(\"MIDDLE_NAME\")).alias(\"MIDDLE_NAME\"),\n",
    "    initcap(col(\"LAST_NAME\")).alias(\"LAST_NAME\"),\n",
    "    col(\"CREDIT_CARD_NO\").alias(\"Credit_card_no\"),\n",
    "    concat_ws(\", \", col(\"STREET_NAME\"), col(\"APT_NO\")).alias(\"FULL_STREET_ADDRESS\"),\n",
    "    col(\"CUST_CITY\").alias(\"CUST_CITY\"),\n",
    "    col(\"CUST_STATE\").alias(\"CUST_STATE\"),\n",
    "    col(\"CUST_COUNTRY\").alias(\"CUST_COUNTRY\"),\n",
    "    col(\"CUST_ZIP\").alias(\"CUST_ZIP\"),\n",
    "    regexp_replace(col(\"CUST_PHONE\").cast(\"string\"), r\"(\\d{3})(\\d{4})\", r\"($1)$2\").alias(\"CUST_PHONE\"),\n",
    "    col(\"CUST_EMAIL\").alias(\"CUST_EMAIL\"),\n",
    "    col(\"LAST_UPDATED\").alias(\"LAST_UPDATED\")\n",
    ")"
   ]
  },
  {
   "cell_type": "code",
   "execution_count": 51,
   "metadata": {},
   "outputs": [
    {
     "name": "stdout",
     "output_type": "stream",
     "text": [
      "+---------+----------+-----------+---------+----------------+--------------------+------------+----------+-------------+--------+----------+--------------------+-------------------+\n",
      "|      SSN|FIRST_NAME|MIDDLE_NAME|LAST_NAME|  Credit_card_no| FULL_STREET_ADDRESS|   CUST_CITY|CUST_STATE| CUST_COUNTRY|CUST_ZIP|CUST_PHONE|          CUST_EMAIL|       LAST_UPDATED|\n",
      "+---------+----------+-----------+---------+----------------+--------------------+------------+----------+-------------+--------+----------+--------------------+-------------------+\n",
      "|123456100|      Alec|         wm|   Hooper|4210653310061055|Main Street North...|     Natchez|        MS|United States|   39120| (123)7818| AHooper@example.com|2018-04-21 09:49:02|\n",
      "|123453023|      Etta|    brendan|   Holman|4210653310102868|  Redwood Drive, 829|Wethersfield|        CT|United States|   06109| (123)8933| EHolman@example.com|2018-04-21 09:49:02|\n",
      "|123454487|    Wilber|   ezequiel|   Dunham|4210653310116272|12th Street East,...|     Huntley|        IL|United States|   60142| (124)3018| WDunham@example.com|2018-04-21 09:49:02|\n",
      "|123459758|   Eugenio|      trina|    Hardy|4210653310195948|Country Club Road...|   NewBerlin|        WI|United States|   53151| (124)3215|  EHardy@example.com|2018-04-21 09:49:02|\n",
      "|123454431|   Wilfred|        may|    Ayers|4210653310356919| Madison Street, 301|      ElPaso|        TX|United States|   79930| (124)2074|  WAyers@example.com|2018-04-21 09:49:02|\n",
      "|123454202|      Beau|    ambrose|  Woodard|4210653310395982|   Colonial Drive, 3|NorthOlmsted|        OH|United States|   44070| (124)2570|BWoodard@example.com|2018-04-21 09:49:02|\n",
      "|123451799|    Sheila|      larry|     Kemp|4210653310400536|  Belmont Avenue, 84|      Vienna|        VA|United States|   22180| (123)9685|   SKemp@example.com|2018-04-21 09:49:02|\n",
      "|123453875|     Wendy|        ora|   Hurley|4210653310459911|   Oxford Court, 728|      Duarte|        CA|United States|   91010| (123)8213| WHurley@example.com|2018-04-21 09:49:02|\n",
      "|123457511|      Alec|     tracie|  Gilmore|4210653310773972|   Forest Street, 81|      Owosso|        MI|United States|   48867| (124)0689|AGilmore@example.com|2018-04-21 09:49:02|\n",
      "|123457464|    Barbra|    mitchel|      Lau|4210653310794854|   Court Street, 561|        Zion|        IL|United States|   60099| (123)5222|    BLau@example.com|2018-04-21 09:49:02|\n",
      "|123457639|   Edmundo|      denny|  Thomson|4210653310817373|  Cypress Court, 622|  Youngstown|        OH|United States|   44512| (124)1363|EThomson@example.com|2018-04-21 09:49:02|\n",
      "|123453242|      Elsa|   isabelle|   Truong|4210653310844617|8th Street West, 924| Summerville|        SC|United States|   29483| (123)6228| ETruong@example.com|2018-04-21 09:49:02|\n",
      "|123454339|     Homer|      henry| Mckinney|4210653311015303|    East Avenue, 611|      ElPaso|        TX|United States|   79930| (123)8165|HMckinney@example...|2018-04-21 09:49:02|\n",
      "|123454537|      Rita|     rickey|     Kidd|4210653311215039|       Route 44, 680|      Fenton|        MI|United States|   48430| (123)4730|   RKidd@example.com|2018-04-21 09:49:02|\n",
      "|123452373|    Amalia|  heriberto|  Ballard|4210653311229354|   Warren Street, 71|  Grandville|        MI|United States|   49418| (124)2113|ABallard@example.com|2018-04-21 09:49:02|\n",
      "|123455343|     Patty|   angelita|   Thomas|4210653311652836|   Jones Street, 195|    YubaCity|        CA|United States|   95993| (123)9888| PThomas@example.com|2018-04-21 09:49:02|\n",
      "|123451533|  Josefina|   dorothea|   Morrow|4210653311707126|     New Street, 500|   CapeCoral|        FL|United States|   33904| (124)0158| JMorrow@example.com|2018-04-21 09:49:02|\n",
      "|123459278|    Nelson|  jefferson|  Andrews|4210653311730764|Division Street, 989|  Brookfield|        WI|United States|   53045| (124)1408|NAndrews@example.com|2018-04-21 09:49:02|\n",
      "|123456915|    Miquel|     maximo|Schneider|4210653311898082|   Maple Street, 810|    Richmond|        VA|United States|   23223| (123)8390|MSchneider@exampl...|2018-04-21 09:49:02|\n",
      "|123453807|    Parker|    arnulfo|  Tidwell|4210653312021765|     Eagle Road, 649| WestChester|        PA|United States|   19380| (123)5067|PTidwell@example.com|2018-04-21 09:49:02|\n",
      "+---------+----------+-----------+---------+----------------+--------------------+------------+----------+-------------+--------+----------+--------------------+-------------------+\n",
      "only showing top 20 rows\n",
      "\n"
     ]
    }
   ],
   "source": [
    "transformed_data.show()"
   ]
  },
  {
   "cell_type": "code",
   "execution_count": 52,
   "metadata": {},
   "outputs": [
    {
     "name": "stdout",
     "output_type": "stream",
     "text": [
      "root\n",
      " |-- SSN: integer (nullable = true)\n",
      " |-- FIRST_NAME: string (nullable = true)\n",
      " |-- MIDDLE_NAME: string (nullable = true)\n",
      " |-- LAST_NAME: string (nullable = true)\n",
      " |-- Credit_card_no: string (nullable = true)\n",
      " |-- FULL_STREET_ADDRESS: string (nullable = false)\n",
      " |-- CUST_CITY: string (nullable = true)\n",
      " |-- CUST_STATE: string (nullable = true)\n",
      " |-- CUST_COUNTRY: string (nullable = true)\n",
      " |-- CUST_ZIP: string (nullable = true)\n",
      " |-- CUST_PHONE: string (nullable = true)\n",
      " |-- CUST_EMAIL: string (nullable = true)\n",
      " |-- LAST_UPDATED: timestamp (nullable = true)\n",
      "\n"
     ]
    }
   ],
   "source": [
    "transformed_data.printSchema()"
   ]
  },
  {
   "cell_type": "code",
   "execution_count": 54,
   "metadata": {},
   "outputs": [],
   "source": [
    "config = spark.read.option(\"multiline\", \"true\").json(\"/Users/max/Drive/VS_Projects/cap_project/config/config.yaml\")\n",
    "\n",
    "\n",
    "# Write the DataFrame to the RDBMS using the configuration\n",
    "transformed_data.write \\\n",
    "    .format(\"jdbc\") \\\n",
    "    .option(\"url\", config.select(\"url\").first()[0]) \\\n",
    "    .option(\"driver\", config.select(\"driver\").first()[0]) \\\n",
    "    .option(\"dbtable\", \"table010\") \\\n",
    "    .option(\"user\", config.select(\"user\").first()[0]) \\\n",
    "    .option(\"password\", config.select(\"password\").first()[0]) \\\n",
    "    .mode(\"overwrite\") \\\n",
    "    .save()"
   ]
  }
 ],
 "metadata": {
  "kernelspec": {
   "display_name": "Python 3",
   "language": "python",
   "name": "python3"
  },
  "language_info": {
   "codemirror_mode": {
    "name": "ipython",
    "version": 3
   },
   "file_extension": ".py",
   "mimetype": "text/x-python",
   "name": "python",
   "nbconvert_exporter": "python",
   "pygments_lexer": "ipython3",
   "version": "3.11.4"
  },
  "orig_nbformat": 4
 },
 "nbformat": 4,
 "nbformat_minor": 2
}
